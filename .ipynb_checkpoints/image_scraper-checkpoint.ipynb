{
 "cells": [
  {
   "cell_type": "code",
   "execution_count": null,
   "metadata": {},
   "outputs": [],
   "source": [
    "import os\n",
    "import time\n",
    "\n",
    "from selenium import webdriver\n",
    "\n",
    "import urllib.request\n",
    "import requests"
   ]
  },
  {
   "cell_type": "markdown",
   "metadata": {},
   "source": [
    "# Getting list of links"
   ]
  },
  {
   "cell_type": "code",
   "execution_count": null,
   "metadata": {},
   "outputs": [],
   "source": [
    "#Selenium code to scroll to bottom of the page\n",
    "\n",
    "search_query = \"microphone song\"\n",
    "\n",
    "\n",
    "link = \"https://www.google.com/search?q={}&tbm=isch&tbs=isz:m\".format(search_query)\n",
    "#below query with color\n",
    "#link = \"https://www.google.com/search?q={}&tbm=isch&tbs=isz:m,ic:specific,isc:red\".format(search_query)\n",
    "DRIVER_PATH = '/usr/bin/chromedriver'\n",
    "\n",
    "driver = webdriver.Chrome(executable_path=DRIVER_PATH)\n",
    "driver.get(link)\n",
    "\n",
    "SCROLL_PAUSE_TIME = 2\n",
    "\n",
    "# Get scroll height\n",
    "last_height = driver.execute_script(\"return document.body.scrollHeight\")\n",
    "\n",
    "while True:\n",
    "    # Scroll down to bottom\n",
    "    driver.execute_script(\"window.scrollTo(0, document.body.scrollHeight);\")\n",
    "\n",
    "    # Wait to load page\n",
    "    time.sleep(SCROLL_PAUSE_TIME)\n",
    "\n",
    "    # Calculate new scroll height and compare with last scroll height\n",
    "    new_height = driver.execute_script(\"return document.body.scrollHeight\")\n",
    "    \n",
    "    if new_height == last_height:\n",
    "    #break #insert press load more\n",
    "        try:\n",
    "            element = driver.find_elements_by_class_name('mye4qd') #returns list\n",
    "            element[0].click()\n",
    "        except:\n",
    "            break\n",
    "    last_height = new_height\n",
    "    \n",
    "print(\"Reached the end of page\")"
   ]
  },
  {
   "cell_type": "markdown",
   "metadata": {},
   "source": [
    "<b>Return the lists of urls using \"data-src\" and \"src\" anchors and merge them to fill None values"
   ]
  },
  {
   "cell_type": "code",
   "execution_count": null,
   "metadata": {},
   "outputs": [],
   "source": [
    "def null_count(l):\n",
    "    #given a list l, find the number of null\n",
    "    null_count = 0\n",
    "    \n",
    "    for element in l:\n",
    "        if element == None:\n",
    "            null_count += 1\n",
    "            \n",
    "    return null_count"
   ]
  },
  {
   "cell_type": "code",
   "execution_count": null,
   "metadata": {},
   "outputs": [],
   "source": [
    "#return a list clickable objects for each individual image\n",
    "image_links = driver.find_elements_by_class_name('rg_i')\n",
    "total = len(image_links)\n",
    "total"
   ]
  },
  {
   "cell_type": "code",
   "execution_count": null,
   "metadata": {},
   "outputs": [],
   "source": [
    "el = image_links[1]\n",
    "el.click()\n",
    "time.sleep(1)\n",
    "main = driver.find_elements_by_class_name('v4dQwb')"
   ]
  },
  {
   "cell_type": "code",
   "execution_count": null,
   "metadata": {},
   "outputs": [],
   "source": [
    "main[1].get_attribute('innerHTML')\n",
    "src = main[1].find_element_by_class_name('n3VNCb').get_attribute(\"src\")\n",
    "src\n",
    "if src[:4] == 'http' and \"encrypted-tbn0\" not in src:\n",
    "    print('o')"
   ]
  },
  {
   "cell_type": "markdown",
   "metadata": {},
   "source": [
    "Download images."
   ]
  },
  {
   "cell_type": "code",
   "execution_count": null,
   "metadata": {},
   "outputs": [],
   "source": [
    "count = 0\n",
    "for el in image_links:\n",
    "    el.click()\n",
    "    time.sleep(1)\n",
    "    main = driver.find_elements_by_class_name('v4dQwb')\n",
    "    dl_switch = False\n",
    "    for mn in main:\n",
    "        src = mn.find_element_by_class_name('n3VNCb').get_attribute(\"src\")\n",
    "        if src[:4] == 'http' and \"encrypted-tbn0\" not in src:\n",
    "            dl_switch = True\n",
    "            print(\"{}. {}\".format(count, src))\n",
    "            break\n",
    "    if dl_switch:\n",
    "        try:\n",
    "            reponse = requests.get(src)\n",
    "            if reponse.status_code == 200:\n",
    "                with open(f\"microphone_singer_c_{count+1}.jpg\",\"wb\") as file:\n",
    "                    file.write(reponse.content)\n",
    "        except:\n",
    "            pass\n",
    "    count += 1"
   ]
  },
  {
   "cell_type": "code",
   "execution_count": null,
   "metadata": {},
   "outputs": [],
   "source": [
    "driver.quit()"
   ]
  }
 ],
 "metadata": {
  "kernelspec": {
   "display_name": "Python 3",
   "language": "python",
   "name": "python3"
  },
  "language_info": {
   "codemirror_mode": {
    "name": "ipython",
    "version": 3
   },
   "file_extension": ".py",
   "mimetype": "text/x-python",
   "name": "python",
   "nbconvert_exporter": "python",
   "pygments_lexer": "ipython3",
   "version": "3.8.5"
  }
 },
 "nbformat": 4,
 "nbformat_minor": 4
}
